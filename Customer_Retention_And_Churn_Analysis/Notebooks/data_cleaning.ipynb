{
 "cells": [
  {
   "cell_type": "code",
   "execution_count": 14,
   "id": "d4415c27",
   "metadata": {},
   "outputs": [],
   "source": [
    "# Telco Customer Churn - Data Cleaning\n",
    "import pandas as pd\n",
    "import numpy as np\n",
    "import matplotlib.pyplot as plt\n",
    "import seaborn as sns"
   ]
  },
  {
   "cell_type": "code",
   "execution_count": 15,
   "id": "2b8aafbf",
   "metadata": {},
   "outputs": [],
   "source": [
    "# 1. Load dataset\n",
    "df = pd.read_csv(r\"C:\\Users\\vohuy\\projects\\Customer Retention & Churn Analysis\\Data\\Telco-Customer-Churn.csv\")\n",
    "\n"
   ]
  },
  {
   "cell_type": "code",
   "execution_count": 16,
   "id": "510a4693",
   "metadata": {},
   "outputs": [
    {
     "name": "stdout",
     "output_type": "stream",
     "text": [
      "(7043, 21)\n",
      "<class 'pandas.core.frame.DataFrame'>\n",
      "RangeIndex: 7043 entries, 0 to 7042\n",
      "Data columns (total 21 columns):\n",
      " #   Column            Non-Null Count  Dtype  \n",
      "---  ------            --------------  -----  \n",
      " 0   customerID        7043 non-null   object \n",
      " 1   gender            7043 non-null   object \n",
      " 2   SeniorCitizen     7043 non-null   int64  \n",
      " 3   Partner           7043 non-null   object \n",
      " 4   Dependents        7043 non-null   object \n",
      " 5   tenure            7043 non-null   int64  \n",
      " 6   PhoneService      7043 non-null   object \n",
      " 7   MultipleLines     7043 non-null   object \n",
      " 8   InternetService   7043 non-null   object \n",
      " 9   OnlineSecurity    7043 non-null   object \n",
      " 10  OnlineBackup      7043 non-null   object \n",
      " 11  DeviceProtection  7043 non-null   object \n",
      " 12  TechSupport       7043 non-null   object \n",
      " 13  StreamingTV       7043 non-null   object \n",
      " 14  StreamingMovies   7043 non-null   object \n",
      " 15  Contract          7043 non-null   object \n",
      " 16  PaperlessBilling  7043 non-null   object \n",
      " 17  PaymentMethod     7043 non-null   object \n",
      " 18  MonthlyCharges    7043 non-null   float64\n",
      " 19  TotalCharges      7043 non-null   object \n",
      " 20  Churn             7043 non-null   object \n",
      "dtypes: float64(1), int64(2), object(18)\n",
      "memory usage: 1.1+ MB\n",
      "None\n",
      "customerID          0\n",
      "gender              0\n",
      "SeniorCitizen       0\n",
      "Partner             0\n",
      "Dependents          0\n",
      "tenure              0\n",
      "PhoneService        0\n",
      "MultipleLines       0\n",
      "InternetService     0\n",
      "OnlineSecurity      0\n",
      "OnlineBackup        0\n",
      "DeviceProtection    0\n",
      "TechSupport         0\n",
      "StreamingTV         0\n",
      "StreamingMovies     0\n",
      "Contract            0\n",
      "PaperlessBilling    0\n",
      "PaymentMethod       0\n",
      "MonthlyCharges      0\n",
      "TotalCharges        0\n",
      "Churn               0\n",
      "dtype: int64\n"
     ]
    }
   ],
   "source": [
    "# 2. Kiểm tra thông tin ban đầu\n",
    "print(df.shape)\n",
    "print(df.info())\n",
    "print(df.isnull().sum())"
   ]
  },
  {
   "cell_type": "code",
   "execution_count": 17,
   "id": "c3f8f33d",
   "metadata": {},
   "outputs": [
    {
     "name": "stdout",
     "output_type": "stream",
     "text": [
      "Missing in TotalCharges: 11\n"
     ]
    }
   ],
   "source": [
    "# 3. Xử lý cột 'TotalCharges'\n",
    "# Cột này dạng object vì có giá trị trống ' ' -> chuyển về numeric\n",
    "df['TotalCharges'] = pd.to_numeric(df['TotalCharges'], errors='coerce')\n",
    "\n",
    "# Kiểm tra missing sau khi convert\n",
    "print(\"Missing in TotalCharges:\", df['TotalCharges'].isnull().sum())\n",
    "\n",
    "# Xử lý missing (thường ~11 dòng): có thể fill hoặc drop\n",
    "df['TotalCharges'] = df['TotalCharges'].fillna(df['TotalCharges'].median())"
   ]
  },
  {
   "cell_type": "code",
   "execution_count": 18,
   "id": "ee64ece7",
   "metadata": {},
   "outputs": [],
   "source": [
    "# 4. Drop cột ID (không dùng phân tích)\n",
    "df.drop(columns=['customerID'], inplace=True)"
   ]
  },
  {
   "cell_type": "code",
   "execution_count": 19,
   "id": "16bd5f14",
   "metadata": {},
   "outputs": [],
   "source": [
    "# 5. Chuẩn hóa kiểu dữ liệu\n",
    "# tenure, MonthlyCharges, TotalCharges phải là numeric\n",
    "numeric_cols = ['tenure', 'MonthlyCharges', 'TotalCharges']\n",
    "for col in numeric_cols:\n",
    "    df[col] = pd.to_numeric(df[col], errors='coerce')"
   ]
  },
  {
   "cell_type": "code",
   "execution_count": 20,
   "id": "4727b93b",
   "metadata": {},
   "outputs": [],
   "source": [
    "# 6. Encode biến Yes/No thành 1/0\n",
    "binary_cols = ['Partner', 'Dependents', 'PhoneService', 'PaperlessBilling', 'Churn']\n",
    "for col in binary_cols:\n",
    "    df[col] = df[col].map({'Yes': 1, 'No': 0})"
   ]
  },
  {
   "cell_type": "code",
   "execution_count": 21,
   "id": "270d46d5",
   "metadata": {},
   "outputs": [],
   "source": [
    "# 7. SeniorCitizen đã là 0/1 nhưng có thể đổi thành categorical nếu muốn\n",
    "df['SeniorCitizen'] = df['SeniorCitizen'].astype('category')"
   ]
  },
  {
   "cell_type": "code",
   "execution_count": 22,
   "id": "36241685",
   "metadata": {},
   "outputs": [
    {
     "name": "stdout",
     "output_type": "stream",
     "text": [
      "✅ Saved: Telco-Customer-Churn-EDA.csv (for EDA)\n"
     ]
    }
   ],
   "source": [
    "# 🔹 Lưu bản EDA (chưa one-hot encoding)\n",
    "df.to_csv(\"Telco-Customer-Churn-EDA.csv\", index=False)\n",
    "\n",
    "print(\"✅ Saved: Telco-Customer-Churn-EDA.csv (for EDA)\")"
   ]
  },
  {
   "cell_type": "code",
   "execution_count": 23,
   "id": "328742f6",
   "metadata": {},
   "outputs": [],
   "source": [
    "# 8. One-Hot Encoding cho categorical variables nhiều giá trị\n",
    "categorical_cols = ['gender', 'MultipleLines', 'InternetService',\n",
    "                    'OnlineSecurity', 'OnlineBackup', 'DeviceProtection',\n",
    "                    'TechSupport', 'StreamingTV', 'StreamingMovies',\n",
    "                    'Contract', 'PaymentMethod']\n",
    "\n",
    "df_encoded = pd.get_dummies(df, columns=categorical_cols, drop_first=True)\n"
   ]
  },
  {
   "cell_type": "code",
   "execution_count": 24,
   "id": "dfa00d78",
   "metadata": {},
   "outputs": [
    {
     "name": "stdout",
     "output_type": "stream",
     "text": [
      "  SeniorCitizen  Partner  Dependents  tenure  PhoneService  PaperlessBilling  \\\n",
      "0             0        1           0       1             0                 1   \n",
      "1             0        0           0      34             1                 0   \n",
      "2             0        0           0       2             1                 1   \n",
      "3             0        0           0      45             0                 0   \n",
      "4             0        0           0       2             1                 1   \n",
      "\n",
      "   MonthlyCharges  TotalCharges  Churn  gender_Male  ...  TechSupport_Yes  \\\n",
      "0           29.85         29.85      0        False  ...            False   \n",
      "1           56.95       1889.50      0         True  ...            False   \n",
      "2           53.85        108.15      1         True  ...            False   \n",
      "3           42.30       1840.75      0         True  ...             True   \n",
      "4           70.70        151.65      1        False  ...            False   \n",
      "\n",
      "   StreamingTV_No internet service  StreamingTV_Yes  \\\n",
      "0                            False            False   \n",
      "1                            False            False   \n",
      "2                            False            False   \n",
      "3                            False            False   \n",
      "4                            False            False   \n",
      "\n",
      "   StreamingMovies_No internet service  StreamingMovies_Yes  \\\n",
      "0                                False                False   \n",
      "1                                False                False   \n",
      "2                                False                False   \n",
      "3                                False                False   \n",
      "4                                False                False   \n",
      "\n",
      "   Contract_One year  Contract_Two year  \\\n",
      "0              False              False   \n",
      "1               True              False   \n",
      "2              False              False   \n",
      "3               True              False   \n",
      "4              False              False   \n",
      "\n",
      "   PaymentMethod_Credit card (automatic)  PaymentMethod_Electronic check  \\\n",
      "0                                  False                            True   \n",
      "1                                  False                           False   \n",
      "2                                  False                           False   \n",
      "3                                  False                           False   \n",
      "4                                  False                            True   \n",
      "\n",
      "   PaymentMethod_Mailed check  \n",
      "0                       False  \n",
      "1                        True  \n",
      "2                        True  \n",
      "3                       False  \n",
      "4                       False  \n",
      "\n",
      "[5 rows x 31 columns]\n",
      "<class 'pandas.core.frame.DataFrame'>\n",
      "RangeIndex: 7043 entries, 0 to 7042\n",
      "Data columns (total 31 columns):\n",
      " #   Column                                 Non-Null Count  Dtype   \n",
      "---  ------                                 --------------  -----   \n",
      " 0   SeniorCitizen                          7043 non-null   category\n",
      " 1   Partner                                7043 non-null   int64   \n",
      " 2   Dependents                             7043 non-null   int64   \n",
      " 3   tenure                                 7043 non-null   int64   \n",
      " 4   PhoneService                           7043 non-null   int64   \n",
      " 5   PaperlessBilling                       7043 non-null   int64   \n",
      " 6   MonthlyCharges                         7043 non-null   float64 \n",
      " 7   TotalCharges                           7043 non-null   float64 \n",
      " 8   Churn                                  7043 non-null   int64   \n",
      " 9   gender_Male                            7043 non-null   bool    \n",
      " 10  MultipleLines_No phone service         7043 non-null   bool    \n",
      " 11  MultipleLines_Yes                      7043 non-null   bool    \n",
      " 12  InternetService_Fiber optic            7043 non-null   bool    \n",
      " 13  InternetService_No                     7043 non-null   bool    \n",
      " 14  OnlineSecurity_No internet service     7043 non-null   bool    \n",
      " 15  OnlineSecurity_Yes                     7043 non-null   bool    \n",
      " 16  OnlineBackup_No internet service       7043 non-null   bool    \n",
      " 17  OnlineBackup_Yes                       7043 non-null   bool    \n",
      " 18  DeviceProtection_No internet service   7043 non-null   bool    \n",
      " 19  DeviceProtection_Yes                   7043 non-null   bool    \n",
      " 20  TechSupport_No internet service        7043 non-null   bool    \n",
      " 21  TechSupport_Yes                        7043 non-null   bool    \n",
      " 22  StreamingTV_No internet service        7043 non-null   bool    \n",
      " 23  StreamingTV_Yes                        7043 non-null   bool    \n",
      " 24  StreamingMovies_No internet service    7043 non-null   bool    \n",
      " 25  StreamingMovies_Yes                    7043 non-null   bool    \n",
      " 26  Contract_One year                      7043 non-null   bool    \n",
      " 27  Contract_Two year                      7043 non-null   bool    \n",
      " 28  PaymentMethod_Credit card (automatic)  7043 non-null   bool    \n",
      " 29  PaymentMethod_Electronic check         7043 non-null   bool    \n",
      " 30  PaymentMethod_Mailed check             7043 non-null   bool    \n",
      "dtypes: bool(22), category(1), float64(2), int64(6)\n",
      "memory usage: 598.6 KB\n",
      "None\n"
     ]
    }
   ],
   "source": [
    "# 9. Kiểm tra lại kết quả\n",
    "print(df_encoded.head())\n",
    "print(df_encoded.info())\n"
   ]
  },
  {
   "cell_type": "code",
   "execution_count": 25,
   "id": "55940c0f",
   "metadata": {},
   "outputs": [
    {
     "name": "stdout",
     "output_type": "stream",
     "text": [
      "✅ Saved: Telco-Customer-Churn-Cleaned.csv (for Modeling)\n"
     ]
    }
   ],
   "source": [
    "# 🔹 Lưu bản Cleaned (cho Modeling)\n",
    "df_encoded.to_csv(\"Telco-Customer-Churn-Cleaned.csv\", index=False)\n",
    "\n",
    "print(\"✅ Saved: Telco-Customer-Churn-Cleaned.csv (for Modeling)\")"
   ]
  },
  {
   "cell_type": "code",
   "execution_count": null,
   "id": "426ff507",
   "metadata": {},
   "outputs": [],
   "source": []
  },
  {
   "cell_type": "code",
   "execution_count": null,
   "id": "01eb6149",
   "metadata": {},
   "outputs": [],
   "source": []
  }
 ],
 "metadata": {
  "kernelspec": {
   "display_name": "base",
   "language": "python",
   "name": "python3"
  },
  "language_info": {
   "codemirror_mode": {
    "name": "ipython",
    "version": 3
   },
   "file_extension": ".py",
   "mimetype": "text/x-python",
   "name": "python",
   "nbconvert_exporter": "python",
   "pygments_lexer": "ipython3",
   "version": "3.12.7"
  }
 },
 "nbformat": 4,
 "nbformat_minor": 5
}
